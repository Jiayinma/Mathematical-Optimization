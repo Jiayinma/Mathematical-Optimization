{
 "cells": [
  {
   "cell_type": "markdown",
   "metadata": {},
   "source": [
    "# Production Optimization  \n",
    "Jiayin Ma |  April 2018\n",
    "<br>\n",
    "\n",
    "## Problem: \n",
    "You operate two plants, i.e., A and B. Each plant makes two products, “standard” and “deluxe”. A unit of standard gives a profit contribution of $10, while a unit of deluxe gives a profit contribution of $15.\n",
    "Each plant uses two processes, grinding and polishing, for producing its products. Plant A has a grinding capacity of 80 hours per week and polishing capacity of 60 hours per week. For plant B, these capacities are 60 and 75 hours per week, respectively.\n",
    "The grinding and polishing times in hours for a unit of each type of product in each factory are given in the tables below.  \n",
    "\n",
    "<img width=\"709\" alt=\"plants\" src=\"https://user-images.githubusercontent.com/33208955/39788362-faef6cd8-52de-11e8-8cdd-50fa31189e32.png\">  \n",
    "\n",
    "It is possible, for example, that plant B has older machines than plant A, resulting in higher unit processing times. In addition, each unit of each product uses 4 kg of a raw material, which we refer to as raw. The company has 120 kg of raw available per week. To start with, we will assume that plant A is allocated 75 kg of raw per week and plant B the remaining 45 kg per week. Each plant can build a very simple linear programming model to maximize its profit contribution."
   ]
  },
  {
   "cell_type": "markdown",
   "metadata": {},
   "source": [
    "### 1. Optimization Problem\n",
    "Find the optimal production allocation to maximize the revenue under the limits of capacity and raw materials.  \n",
    "\n",
    "### 2. Decision variables\n",
    "Let $i$ be the index of the plants:  \n",
    "$i=1$ is plant A  \n",
    "$i=2$ is plant B\n",
    "\n",
    "Let $j$ be the index of the product type:  \n",
    "$j=1$ is standard product  \n",
    "$j=2$ is deluxe product  \n",
    "\n",
    "let $k$ be the index of the process type:  \n",
    "$k=1$ is grinding    \n",
    "$k=2$ is polishing   \n",
    "\n",
    "For example, $x_{11}$represents the number of standard products producing in plant A.  \n",
    "\n",
    "### 3. Objective\n",
    "\\begin{equation}\n",
    "Objective=10\\times x_{i1} {+} {15}\\times x_{i2}\\\n",
    "\\end{equation}\n",
    "\n",
    "### 4. Constraints  \n",
    "Let $h_{ijk}$ be the process times in hours for a unit of each type of product in each factory. The capacity constraints for each factory are below:  \n",
    "\n",
    "\\begin{align}\n",
    "x_{11}\\times h_{111}+x_{12}\\times h_{111}&\\leq 80\\\\\n",
    "x_{11}\\times h_{112}+x_{12}\\times h_{112}&\\leq 60\\\\\n",
    "x_{21}\\times h_{211}+x_{21}\\times h_{211}&\\leq 60\\\\\n",
    "x_{21}\\times h_{222}+x_{22}\\times h_{222}&\\leq 75\\\\\n",
    "\\end{align}  \n",
    "\n",
    "The raw materials constraints are:  \n",
    "\n",
    "\\begin{align}\n",
    "(x_{11}+x_{12})\\times {4}&\\leq 75\\\\\n",
    "(x_{21}+x_{22})\\times {4}&\\leq 45\\\\\n",
    "\\end{align}  \n",
    "<br>\n",
    "\n",
    "Assume that we could optimize the maerial allocation when we plan plant A and plant B together, the raw materials constraint would be:  \n",
    "\n",
    "\\begin{align}\n",
    "(x_{11}+x_{12})\\times {4}+(x_{11}+x_{12})\\times {4}&\\leq 120\\\\\n",
    "\\end{align}  \n",
    "\n",
    "Processing capacities cannot be allocated since they are from two different plants/machines.  \n",
    "<br>  \n",
    "\n",
    "Non negative constraints:  \n",
    "\\begin{align}\n",
    "x_{ij}&\\geq 0\\\\\n",
    "\\end{align}  \n"
   ]
  },
  {
   "cell_type": "markdown",
   "metadata": {},
   "source": [
    "### 5. Modeling"
   ]
  },
  {
   "cell_type": "code",
   "execution_count": 2,
   "metadata": {
    "collapsed": true
   },
   "outputs": [],
   "source": [
    "import cvxpy as cvx\n",
    "import math\n",
    "import numpy as np\n",
    "import pandas as pd\n",
    "import matplotlib.pyplot as plt"
   ]
  },
  {
   "cell_type": "code",
   "execution_count": 8,
   "metadata": {},
   "outputs": [
    {
     "name": "stdout",
     "output_type": "stream",
     "text": [
      "The optimal profit for plant A is:  220.00000005215267\n",
      "Optimal allocation of standard products:  10.000000000492811\n",
      "Optimal allocation of deluxe products 8.000000003148305\n",
      "------------------------------------------------------------------------------------\n",
      "The optimal profit for plant B is:  165.00000006681978\n",
      "Optimal allocation of standard products:  2.912859137415921e-09\n",
      "Optimal allocation of deluxe products:  11.000000002512746\n"
     ]
    }
   ],
   "source": [
    "# define the variables\n",
    "x=cvx.Bool(16)  # x=1 is when the hotel is selected to buy; x=0 is when the hotal is not selected to buy\n",
    "\n",
    "price=np.matrix([2925000,10000000,3750000,3500000,325000,8950000,1950000,1750000,4900000,1650000,1125000,2500000,\n",
    "                 1975000,3750000,1475000,750000])\n",
    "profitability=np.matrix([44.24236879,53.37919231,43.02117894,42.6068584,37.34498761,49.09506947,23.77686566,\n",
    "                         23.44540924,28.66584798,38.88067311,38.01059999,40.28936293,39.41928981,42.36096561,\n",
    "                         38.59064874,37.38911919])\n",
    "\n",
    "# objective\n",
    "objective=cvx.Maximize(cvx.sum_entries(profitability*x))  # to maximize the average predicted profitability\n",
    "\n",
    "#x_sum=sum(x[0]+x[1]+x[2]+x[3]+x[4]+x[5]+x[6]+x[7]+x[8]+x[9]+x[10]+x[11]+x[12]+x[13]+x[14]+x[15])  # number of hotels purchased\n",
    "\n",
    "# contraints\n",
    "c1=cvx.sum_entries(price*x)<=10000000  # $10 million budget contraint\n",
    "con=[c1]\n",
    "\n",
    "prob=cvx.Problem(objective, con)\n",
    "result=prob.solve()\n",
    "print (\"The optimal profitability is: \", result)\n",
    "print (\"The hotels we should purchase are: \", x.value)"
   ]
  },
  {
   "cell_type": "code",
   "execution_count": 10,
   "metadata": {},
   "outputs": [
    {
     "name": "stdout",
     "output_type": "stream",
     "text": [
      "The optimal profit for plant A and plant B is:  385.0000000611009\n",
      "Optimal allocation of standard products in plant A:  10.000000002876392\n",
      "Optimal allocation of deluxe products in plant A:  8.000000001475799\n",
      "Optimal allocation of standard products in plant B 3.0780839580717643e-09\n",
      "Optimal allocation of deluxe products in plant B 10.999999998627942\n"
     ]
    }
   ],
   "source": [
    "# joint optimization of Plant A and B without changing the materials constraints\n",
    "\n",
    "con=[c11,c12,c21,c22,c3,c4,c5,c6,c7,c8]  # constraints for both plant A and plant B\n",
    "\n",
    "prob = cvx.Problem(objective, con)  # solution for both plant A and plant B\n",
    "result = prob.solve()\n",
    "print (\"The optimal profit for plant A and plant B is: \", result)\n",
    "print (\"Optimal allocation of standard products in plant A: \", x11.value)\n",
    "print (\"Optimal allocation of deluxe products in plant A: \", x12.value)\n",
    "print (\"Optimal allocation of standard products in plant B\", x21.value)\n",
    "print (\"Optimal allocation of deluxe products in plant B\", x22.value)"
   ]
  },
  {
   "cell_type": "code",
   "execution_count": 11,
   "metadata": {},
   "outputs": [
    {
     "name": "stdout",
     "output_type": "stream",
     "text": [
      "The optimal profit for plant A and plant B is:  399.99999992548265\n",
      "Optimal allocation of standard products in plant A:  9.999999999202235\n",
      "Optimal allocation of deluxe products in plant A:  7.999999996534886\n",
      "Optimal allocation of standard products in plant B -1.4098916005133095e-09\n",
      "Optimal allocation of deluxe products in plant B 11.999999999969063\n"
     ]
    }
   ],
   "source": [
    "# Assume that we could optimize the material allocation\n",
    "# joint optimization of Plant A and B by changing the materials constraints\n",
    "\n",
    "c00=(x11+x12+x21+x22)*4<=120  # assume that the only constraint of raw materials is 120kg when consider plant A and B tpgether\n",
    "con_r=[c11,c12,c21,c22,c5,c6,c7,c8,c00]  # assume that we can reallocate the raw materials\n",
    "\n",
    "prob_r = cvx.Problem(objective, con_r)  # solution for plant A and plant B\n",
    "result_r = prob_r.solve()\n",
    "print (\"The optimal profit for plant A and plant B is: \", result_r)\n",
    "print (\"Optimal allocation of standard products in plant A: \", x11.value)\n",
    "print (\"Optimal allocation of deluxe products in plant A: \", x12.value)\n",
    "print (\"Optimal allocation of standard products in plant B\", x21.value)\n",
    "print (\"Optimal allocation of deluxe products in plant B\", x22.value)"
   ]
  },
  {
   "cell_type": "markdown",
   "metadata": {},
   "source": [
    "### 6. Summary  \n",
    "* When we optimoze the profit for the two plants separately, the total optimal profit is about 385. When we optimoze the profit for the two plants at the same time, the total optimal profit is about 400. **Therefore, we can achieve higher total profit by the joint optimization for plant A and plant B than by the separaterd optimization.**  \n",
    "\n",
    "* The only difference between the two optimization model is the raw material constraint. In the separated model, plant A is allocated 75kg raw material while plant B is allocated 45kg material. In the joint model, plant A and plant B are allocated 120kg totally. **The CEO of the company should improve the raw material allcation for each plant to make the best of the material so that the company can achieve higher profit.**  \n",
    "\n",
    "* The optimal solution is to produce 10 standard products ans 8 deluxe prodects in plant A while producing 12 deluxe products in plant B.  \n",
    "<br>"
   ]
  }
 ],
 "metadata": {
  "kernelspec": {
   "display_name": "Python 3",
   "language": "python",
   "name": "python3"
  },
  "language_info": {
   "codemirror_mode": {
    "name": "ipython",
    "version": 3
   },
   "file_extension": ".py",
   "mimetype": "text/x-python",
   "name": "python",
   "nbconvert_exporter": "python",
   "pygments_lexer": "ipython3",
   "version": "3.6.3"
  }
 },
 "nbformat": 4,
 "nbformat_minor": 2
}
