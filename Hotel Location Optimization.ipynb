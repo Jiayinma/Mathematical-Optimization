{
 "cells": [
  {
   "cell_type": "markdown",
   "metadata": {},
   "source": [
    "# Hotel Location Optimization   \n",
    "Jiayin Ma |  April 2018\n",
    "<br>"
   ]
  },
  {
   "cell_type": "markdown",
   "metadata": {},
   "source": [
    "## Problem:  \n",
    "\n",
    "LQM is a middle-sized hotel chain that is considering expanding to more locations. LQM used data on 75 existing inn locations to build a linear regression model to predict “Profitability”, computed at the operating margin, or earnings before interest and taxes divided by total revenue. They tried many independent variables and came up with the final model:  \n",
    "\n",
    "<img width=\"671\" alt=\"model\" src=\"https://user-images.githubusercontent.com/33208955/39788938-bfb7432c-52e1-11e8-81e3-414a087cc2cb.png\">  \n",
    "\n",
    "All independent variables are significant and were normalized to have mean zero and standard deviation 1.  \n",
    "\n",
    "The data collected are as shown below:  \n",
    "\n",
    "<img width=\"1000\" alt=\"hotel\" src=\"https://user-images.githubusercontent.com/33208955/39789105-bf0465c6-52e2-11e8-86bb-88ac3c30f9a1.png\">  "
   ]
  },
  {
   "cell_type": "markdown",
   "metadata": {},
   "source": [
    "### 1. Optimization Problem\n",
    "Find the optimal approach to purchase new hotels to maximize the **total predicted profitability.**  \n",
    "\n",
    "### 2. Decision variables\n",
    "Let $n$ be the order number of the hotels in the dataset. For example, $price_1$ is the price of hotel No.1.\n",
    "\n",
    "Let binary varible $x_n$ represents whether we are going to buy the hotel. $x_n=1$ means that hotel n is selected to buy, while $x_n=0$ means that hotel n is not selected to buy.  \n",
    "\n",
    "### 3. Constraints  \n",
    "LQM has a budget of $10 million to spend on hotels. So the budget constraint is:  \n",
    "\n",
    "\\begin{equation}\n",
    "\\quad \\sum_{n=1}^{16}  price_{n}\\times x_{n}\\leq 10,000,000\\\\\n",
    "\\end{equation}\n",
    "\n",
    "### 4. Objectives  \n",
    "The objective function is:  \n",
    "\\begin{equation}\n",
    "\\text{max}_{x,y}\\quad \\sum_{n=1}^{16} profitability_{n}\\times x_{n}\n",
    "\\end{equation}"
   ]
  },
  {
   "cell_type": "markdown",
   "metadata": {},
   "source": [
    "### 5. Modeling (No location contraint)"
   ]
  },
  {
   "cell_type": "code",
   "execution_count": 1,
   "metadata": {
    "collapsed": true
   },
   "outputs": [],
   "source": [
    "import cvxpy as cvx\n",
    "import math\n",
    "import numpy as np\n",
    "import pandas as pd\n",
    "import matplotlib.pyplot as plt"
   ]
  },
  {
   "cell_type": "code",
   "execution_count": 5,
   "metadata": {},
   "outputs": [
    {
     "name": "stdout",
     "output_type": "stream",
     "text": [
      "The optimal profitability is:  269.9246813795313\n",
      "The hotels we should purchase are:  [[ 1.09310776e-13]\n",
      " [-8.04116515e-14]\n",
      " [ 2.21232959e-13]\n",
      " [ 2.07350241e-13]\n",
      " [ 1.00000000e+00]\n",
      " [-3.70481569e-14]\n",
      " [ 2.13841339e-13]\n",
      " [ 1.62603412e-13]\n",
      " [ 1.92789269e-13]\n",
      " [ 1.00000000e+00]\n",
      " [ 1.00000000e+00]\n",
      " [ 1.00000000e+00]\n",
      " [ 1.00000000e+00]\n",
      " [ 2.24582739e-13]\n",
      " [ 1.00000000e+00]\n",
      " [ 1.00000000e+00]]\n"
     ]
    }
   ],
   "source": [
    "# define the variables\n",
    "x=cvx.Bool(16)  # x=1 is when the hotel is selected to buy; x=0 is when the hotal is not selected to buy\n",
    "\n",
    "price=np.matrix([2925000,10000000,3750000,3500000,325000,8950000,1950000,1750000,4900000,1650000,1125000,2500000,\n",
    "                 1975000,3750000,1475000,750000])\n",
    "profitability=np.matrix([44.24236879,53.37919231,43.02117894,42.6068584,37.34498761,49.09506947,23.77686566,\n",
    "                         23.44540924,28.66584798,38.88067311,38.01059999,40.28936293,39.41928981,42.36096561,\n",
    "                         38.59064874,37.38911919])\n",
    "\n",
    "# objective\n",
    "objective=cvx.Maximize(cvx.sum_entries(profitability*x))  # to maximize the average predicted profitability\n",
    "\n",
    "#x_sum=sum(x[0]+x[1]+x[2]+x[3]+x[4]+x[5]+x[6]+x[7]+x[8]+x[9]+x[10]+x[11]+x[12]+x[13]+x[14]+x[15])  # number of hotels purchased\n",
    "\n",
    "# contraints\n",
    "c1=cvx.sum_entries(price*x)<=10000000  # $10 million budget contraint\n",
    "con=[c1]\n",
    "\n",
    "prob=cvx.Problem(objective, con)\n",
    "result=prob.solve()\n",
    "print (\"The optimal profitability is: \", result)\n",
    "print (\"The hotels we should purchase are: \", x.value)"
   ]
  },
  {
   "cell_type": "markdown",
   "metadata": {},
   "source": [
    "**In order to maximize the total predicted profitability, we should purchase hotel No.5, No.10, No.11, No.12, No.13, No.15, No.16.**"
   ]
  },
  {
   "cell_type": "markdown",
   "metadata": {},
   "source": [
    "### 6. Modeling 2 (with location constraints)\n",
    "#### New information:  Buying too many hotels in one city is probably not a good idea and would prefer to diversify across as many cities as possible. Limit the number of hotels purchased in any city to at most 2.   \n",
    "Hotel No.2 to No.4 are in Fresno. No.7 to No.9 are in Los Angeles. No.10 to No.16 are in South Lake Tahoe. Hence, the new constraints for location are:  \n",
    "\\begin{align}\n",
    "\\text{Fresno:}\\quad \\sum_{n=2}^{5} x_n&\\leq 2\\\\\n",
    "\\text{Los Angeles:}\\quad \\sum_{n=7}^{9} x_n&\\leq 2\\\\\n",
    "\\text{South Lake Tahoe:}\\quad \\sum_{n=10}^{16} x_n&\\leq 2\\\\\n",
    "\\end{align}  \n",
    "\n",
    "**No need to set the location constraint to the hotels in Eureka and Long beach since both locations have only one hotel.**"
   ]
  },
  {
   "cell_type": "code",
   "execution_count": 6,
   "metadata": {},
   "outputs": [
    {
     "name": "stdout",
     "output_type": "stream",
     "text": [
      "The optimal profitability is:  205.70090439717907\n",
      "The hotels we should purchase are:  [[ 1.00000000e+00]\n",
      " [ 8.46881348e-12]\n",
      " [ 4.96142431e-12]\n",
      " [ 4.76555576e-12]\n",
      " [ 1.00000000e+00]\n",
      " [ 8.07499399e-12]\n",
      " [ 1.00000000e+00]\n",
      " [ 1.00000000e+00]\n",
      " [-8.79487314e-12]\n",
      " [ 1.00000000e+00]\n",
      " [ 1.00000000e+00]\n",
      " [-1.31327377e-11]\n",
      " [-1.55206790e-11]\n",
      " [-8.42586762e-12]\n",
      " [-1.86831584e-11]\n",
      " [-3.25040382e-11]]\n"
     ]
    }
   ],
   "source": [
    "# define the variables\n",
    "x=cvx.Bool(16)  # x=1 is when the hotel is selected to buy; x=0 is when the hotel is not selected to buy.\n",
    "\n",
    "price=np.matrix([2925000,10000000,3750000,3500000,325000,8950000,1950000,1750000,4900000,1650000,1125000,2500000,\n",
    "                 1975000,3750000,1475000,750000])\n",
    "profitability=np.matrix([44.24236879,53.37919231,43.02117894,42.6068584,37.34498761,49.09506947,23.77686566,\n",
    "                         23.44540924,28.66584798,38.88067311,38.01059999,40.28936293,39.41928981,42.36096561,\n",
    "                         38.59064874,37.38911919])\n",
    "\n",
    "# objective\n",
    "objective=cvx.Maximize(cvx.sum_entries(profitability*x))  # to maximize the average predicted profitability\n",
    "\n",
    "# constraints\n",
    "c1=cvx.sum_entries(price*x)<=10000000  # $10 million budget constraint\n",
    "c2=x[1]+x[2]+x[3]+x[4]<=2  # location constraint for Fresno\n",
    "c3=x[6]+x[7]+x[8]<=2  # location contraint for LA\n",
    "c4=x[9]+x[10]+x[11]+x[12]+x[13]+x[14]+x[15]<=2  # location constraint for South Lake Tahoe\n",
    "con2=[c1,c2,c3,c4]\n",
    "\n",
    "prob2=cvx.Problem(objective, con2)\n",
    "result2=prob2.solve()\n",
    "print (\"The optimal profitability is: \", result2)\n",
    "print (\"The hotels we should purchase are: \", x.value)"
   ]
  },
  {
   "cell_type": "markdown",
   "metadata": {},
   "source": [
    "**In order to maximize the total predicted profitability, we should purchase hotel No.1, No.5, No.7, No.8, No.10, No.11.**  \n",
    "* The new model gives lower profitability as expected. Because we are adding constraints to the model. The constraints narrow the space that allows the model to find the best solution. "
   ]
  },
  {
   "cell_type": "markdown",
   "metadata": {},
   "source": [
    "### 3.4.7 Summary  \n",
    "* When we want to optimize the total predited profitability, the greedy approach is NOT a good approach. We should use optimization model to find the optimal profitability and the hotels to buy.  \n",
    "\n",
    "* For linear model, LQM should try to select better features to build the model since the current features do not intuitively make sense. They can try to use Principal Component Analysis and Lasso or Ridge regression to select the features. \n",
    " \n",
    "* According to the results from the two optimization models above, the location constraint affects the total predicted profitability. Therefore, the location constraints should be used carefully. LQM should **conduct further research to find the proper location constraints.** For exampple, LQW can consider to allow more than 2 hotels in one city if the city has greater population.  "
   ]
  }
 ],
 "metadata": {
  "kernelspec": {
   "display_name": "Python 3",
   "language": "python",
   "name": "python3"
  },
  "language_info": {
   "codemirror_mode": {
    "name": "ipython",
    "version": 3
   },
   "file_extension": ".py",
   "mimetype": "text/x-python",
   "name": "python",
   "nbconvert_exporter": "python",
   "pygments_lexer": "ipython3",
   "version": "3.6.3"
  }
 },
 "nbformat": 4,
 "nbformat_minor": 2
}
